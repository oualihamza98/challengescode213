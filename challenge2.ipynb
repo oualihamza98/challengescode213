{
 "cells": [
  {
   "cell_type": "markdown",
   "metadata": {},
   "source": [
    "## Exercise 1: List Operations  \n",
    "  \n",
    "Create a list of your favorite fruits.  \n",
    "Add a new fruit to the list.  \n",
    "Remove a fruit from the list.  \n",
    "Sort the list in alphabetical order.  \n",
    "Print the list.  "
   ]
  },
  {
   "cell_type": "code",
   "execution_count": 2,
   "metadata": {},
   "outputs": [
    {
     "name": "stdout",
     "output_type": "stream",
     "text": [
      "['ananas', 'apple', 'orange', 'tangerine', 'watermelon']\n"
     ]
    }
   ],
   "source": [
    "fruit=[\"ananas\",\"apple\",\"mango\",\"orange\",\"watermelon\"]\n",
    "fruit.append(\"tangerine\")\n",
    "fruit.pop(2)\n",
    "fruit.sort()\n",
    "print(fruit)"
   ]
  },
  {
   "cell_type": "markdown",
   "metadata": {},
   "source": [
    "## Exercise 2: Dictionary Manipulation  \n",
    "  \n",
    "Create a dictionary representing a person with keys like \"name,\" \"age,\" and \"city.\"  \n",
    "Add a new key-value pair to the dictionary.  \n",
    "Update one of the values in the dictionary.  \n",
    "Print the updated dictionary.  "
   ]
  },
  {
   "cell_type": "code",
   "execution_count": 3,
   "metadata": {},
   "outputs": [
    {
     "data": {
      "text/plain": [
       "{'name': 'hamza',\n",
       " 'age': 26,\n",
       " 'city': 'alger',\n",
       " 'address': 'bab ezzouar, alger',\n",
       " 'country': 'Algeria'}"
      ]
     },
     "execution_count": 3,
     "metadata": {},
     "output_type": "execute_result"
    }
   ],
   "source": [
    "person={\n",
    "    \"name\":\"hamza\",\n",
    "    \"age\":25,\n",
    "    \"city\":\"alger\",\n",
    "    \"address\":\"bab ezzouar, alger\"\n",
    "}\n",
    "person[\"country\"]=\"Algeria\"\n",
    "person[\"age\"]=26\n",
    "person"
   ]
  },
  {
   "cell_type": "markdown",
   "metadata": {},
   "source": [
    "## Exercise 3: Set Operations  \n",
    "  \n",
    "Create two sets of integers.  \n",
    "Find the intersection and union of these sets.  \n",
    "Print the results.  \n"
   ]
  },
  {
   "cell_type": "code",
   "execution_count": 4,
   "metadata": {},
   "outputs": [
    {
     "name": "stdout",
     "output_type": "stream",
     "text": [
      "{3, 4}\n",
      "{1, 2, 3, 4, 5, 6, 7}\n"
     ]
    }
   ],
   "source": [
    "set1={1,2,3,4}\n",
    "set2={3,4,5,6,7}\n",
    "inter_set=set1 & set2\n",
    "print(inter_set)   #intersection\n",
    "uni_set=set1 | set2\n",
    "print(uni_set)   #union"
   ]
  },
  {
   "cell_type": "markdown",
   "metadata": {},
   "source": [
    "## Exercise 4: Linear Search  \n",
    "  \n",
    "Create a list of numbers.  \n",
    "Implement a linear search algorithm to find a specific number in the list.  \n",
    "Print whether the number was found and its index.  "
   ]
  },
  {
   "cell_type": "code",
   "execution_count": 10,
   "metadata": {},
   "outputs": [
    {
     "name": "stdout",
     "output_type": "stream",
     "text": [
      "the target -12- was found at the index 2\n"
     ]
    }
   ],
   "source": [
    "numbers=[23, 45, 12, 67, 89, 34, 78, 56, 10, 91]\n",
    "target=12\n",
    "for i in numbers:\n",
    "    if i==target:\n",
    "        print(f\"the target -{target}- was found at the index {numbers.index(i)}\")"
   ]
  }
 ],
 "metadata": {
  "kernelspec": {
   "display_name": "mon_enviroro",
   "language": "python",
   "name": "python3"
  },
  "language_info": {
   "codemirror_mode": {
    "name": "ipython",
    "version": 3
   },
   "file_extension": ".py",
   "mimetype": "text/x-python",
   "name": "python",
   "nbconvert_exporter": "python",
   "pygments_lexer": "ipython3",
   "version": "3.11.9"
  }
 },
 "nbformat": 4,
 "nbformat_minor": 2
}
